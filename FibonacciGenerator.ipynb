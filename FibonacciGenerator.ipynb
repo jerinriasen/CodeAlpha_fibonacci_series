{
  "nbformat": 4,
  "nbformat_minor": 0,
  "metadata": {
    "colab": {
      "provenance": []
    },
    "kernelspec": {
      "name": "python3",
      "display_name": "Python 3"
    },
    "language_info": {
      "name": "python"
    }
  },
  "cells": [
    {
      "cell_type": "code",
      "source": [
        "def fibonacci_generator(n):\n",
        "\n",
        "    fib_series = [0, 1]\n",
        "    while len(fib_series) < n:\n",
        "        fib_series.append(fib_series[-1] + fib_series[-2])\n",
        "    return fib_series[:n]\n",
        "\n",
        "print(\"***Fibbonacci series Generator***\")\n",
        "while True:\n",
        "    choice = input(\"\\n1. Generate Fibonacci series\\n2. Exit\\nEnter your choice: \")\n",
        "    if choice == '1':\n",
        "        n = int(input(\"Enter the number of terms: \"))\n",
        "        print(\"Fibonacci series:\", list(fibonacci_generator(n)))\n",
        "    elif choice == '2':\n",
        "        break\n",
        "    else:\n",
        "        print(\"Invalid choice. Please enter 1 or 2.\")"
      ],
      "metadata": {
        "colab": {
          "base_uri": "https://localhost:8080/"
        },
        "id": "rYAbV3fzRQDd",
        "outputId": "7d7a48f7-20a5-4555-de78-b212f2b04a65"
      },
      "execution_count": null,
      "outputs": [
        {
          "name": "stdout",
          "output_type": "stream",
          "text": [
            "***Fibbonacci series Generator***\n",
            "\n",
            "1. Generate Fibonacci series\n",
            "2. Exit\n",
            "Enter your choice: 1\n",
            "Enter the number of terms: 6\n",
            "Fibonacci series: [0, 1, 1, 2, 3, 5]\n",
            "\n",
            "1. Generate Fibonacci series\n",
            "2. Exit\n",
            "Enter your choice: 2\n"
          ]
        }
      ]
    }
  ]
}